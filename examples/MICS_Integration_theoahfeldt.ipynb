{
  "nbformat": 4,
  "nbformat_minor": 0,
  "metadata": {
    "colab": {
      "name": "theoahfeldt_lab5.ipynb",
      "provenance": [],
      "include_colab_link": true
    },
    "kernelspec": {
      "display_name": "Python 3",
      "language": "python",
      "name": "python3"
    },
    "language_info": {
      "codemirror_mode": {
        "name": "ipython",
        "version": 3
      },
      "file_extension": ".py",
      "mimetype": "text/x-python",
      "name": "python",
      "nbconvert_exporter": "python",
      "pygments_lexer": "ipython3",
      "version": "3.8.7"
    }
  },
  "cells": [
    {
      "cell_type": "markdown",
      "metadata": {
        "id": "view-in-github",
        "colab_type": "text"
      },
      "source": [
        "<a href=\"https://colab.research.google.com/github/johanhoffman/methods-in-computational-science/blob/main/MICS_Integration_theoahfeldt.ipynb\" target=\"_parent\"><img src=\"https://colab.research.google.com/assets/colab-badge.svg\" alt=\"Open In Colab\"/></a>"
      ]
    },
    {
      "cell_type": "markdown",
      "metadata": {
        "id": "6RgtXlfYO_i7"
      },
      "source": [
        "# Lab 5: Integration\n",
        "**Theo Puranen Åhfeldt**"
      ]
    },
    {
      "cell_type": "markdown",
      "metadata": {
        "id": "9x_J5FVuPzbm"
      },
      "source": [
        "# **Abstract**"
      ]
    },
    {
      "cell_type": "markdown",
      "metadata": {
        "id": "6UFTSzW7P8kL"
      },
      "source": [
        "The objective of this report is to implement methods for approximating integrals. This includes the deterministic Gauss quadrature rule over the unit interval and over a reference triangle. It also includes the stochastic Monte Carlo quadrature based on uniform sampling over the same domains. The implementations are tested against scipy's integration module, which indicates that the implementations are succesful."
      ]
    },
    {
      "cell_type": "markdown",
      "metadata": {
        "id": "CkdelNUAY8is"
      },
      "source": [
        "# **About the code**"
      ]
    },
    {
      "cell_type": "markdown",
      "metadata": {
        "id": "wRFNBLGsY-7k"
      },
      "source": [
        "This report is written by Theo Puranen Åhfeldt based on a template by Johan Hoffman."
      ]
    },
    {
      "cell_type": "code",
      "metadata": {
        "id": "fQK6plqYZFKB"
      },
      "source": [
        "# Copyright (C) 2020,2021 Johan Hoffman (jhoffman@kth.se)\n",
        "# Copyright (C) 2021 Theo Puranen Åhfeldt (tahfeldt@kth.se)\n",
        "\n",
        "# This file is part of the course DD2363 Methods in Scientific Computing\n",
        "# KTH Royal Institute of Technology, Stockholm, Sweden\n",
        "#\n",
        "# This is free software: you can redistribute it and/or modify\n",
        "# it under the terms of the GNU Lesser General Public License as published by\n",
        "# the Free Software Foundation, either version 3 of the License, or\n",
        "# (at your option) any later version.\n",
        "\n",
        "# This file is maintained by Johan Hoffman\n",
        "# Please report problems to jhoffman@kth.se"
      ],
      "execution_count": 12,
      "outputs": []
    },
    {
      "cell_type": "markdown",
      "metadata": {
        "id": "28xLGz8JX3Hh"
      },
      "source": [
        "# **Set up environment**"
      ]
    },
    {
      "cell_type": "markdown",
      "metadata": {
        "id": "D2PYNusD08Wa"
      },
      "source": [
        "To have access to the neccessary modules you have to run this cell."
      ]
    },
    {
      "cell_type": "code",
      "metadata": {
        "id": "Xw7VlErAX7NS"
      },
      "source": [
        "# Load neccessary modules.\n",
        "import numpy as np\n",
        "import matplotlib.pyplot as plt\n",
        "import scipy.integrate as integrate"
      ],
      "execution_count": 13,
      "outputs": []
    },
    {
      "cell_type": "markdown",
      "metadata": {
        "id": "gnO3lhAigLev"
      },
      "source": [
        "# **Introduction**"
      ]
    },
    {
      "cell_type": "markdown",
      "metadata": {
        "id": "l5zMzgPlRAF6"
      },
      "source": [
        "Quadrature rules approximate an integral by evaluating the function at $q + 1$ different quadrature points $x_i$ and taking a weigthed average.\n",
        "$$\\int_{\\Omega} f(x) dx \\approx \\sum_{i = 0}^q f(x_i)w_i$$\n",
        "Another way of approximating integrals is Monte Carlo integration. This works by taking $n$ samples $x_i$ from the uniform distribution $U(D)$ where $D$ is the domain of the integration.\n",
        "$$\\int_D g(x) dx \\approx \\frac{|D|}{n} \\sum_{i=1}^n g(x_i)$$"
      ]
    },
    {
      "cell_type": "markdown",
      "metadata": {
        "id": "jOQvukXZq5U5"
      },
      "source": [
        "# **Method**"
      ]
    },
    {
      "cell_type": "markdown",
      "metadata": {
        "id": "zF4iBj5VURZx"
      },
      "source": [
        "The theory behind the quadrature is more complex then the actual rules themselves. This makes implementation a straight forward process of transforming simple arithmetic expressions to code. The uniform sampling required for Monte Carlo integration is implemented using the `numpy.random` module. The quadrature rules are tested on randomly genereted polynomials for which they should be exact, by comparing against integration using the `scipy.integrate` module. The Monte Carlo integration is tested that it converges to the right value (as defined by `scipy.integrate`) and that it does so at a rate of $1/\\sqrt{n}$."
      ]
    },
    {
      "cell_type": "markdown",
      "metadata": {
        "id": "YCOivZ9SYoue"
      },
      "source": [
        "## 2-point Gauss quadrature over a unit interval"
      ]
    },
    {
      "cell_type": "markdown",
      "metadata": {
        "id": "sTxD2OulYoue"
      },
      "source": [
        "An integral over the interval $[-1, 1]$ can be approximated using the 2-point quadrature rule as follows:\n",
        "$$\\int_{-1}^1 f(x) \\approx f(x_0)w_0 + f(x_1)w_1,\\quad w_0=w_1=1,\\quad x_0 = \\frac{1}{\\sqrt{3}}, x_1 = -\\frac{1}{\\sqrt{3}}$$\n",
        "\n",
        "Using the map $F: [-1,1] \\to [0,1]$, we can translate this rule to:\n",
        "\n",
        "$$\\int_0^1 f(x) \\approx f(x_0)w_0 + f(x_1)w_1,\\quad w_0=w_1=\\frac{1}{2},\\quad x_0 = \\frac{1}{2} + \\frac{1}{2\\sqrt{3}}, x_1 = \\frac{1}{2} - \\frac{1}{2\\sqrt{3}}$$\n",
        "\n",
        "For more details see problem 11.3. Using this new rule the implementation is very straight forward."
      ]
    },
    {
      "cell_type": "code",
      "metadata": {
        "id": "fFGM7XYeYoue"
      },
      "source": [
        "def gauss_quadrature_unit_interval(f):\n",
        "    c = 1/(2*np.sqrt(3))\n",
        "    x_0, x_1 = 0.5 + c, 0.5 - c\n",
        "    return (f(x_0) + f(x_1))/2"
      ],
      "execution_count": 14,
      "outputs": []
    },
    {
      "cell_type": "markdown",
      "metadata": {
        "id": "QtijkdYVYouf"
      },
      "source": [
        "### Tests"
      ]
    },
    {
      "cell_type": "markdown",
      "metadata": {
        "id": "mQnEbu2UYouf"
      },
      "source": [
        "To verify the implementation we compare the Gauss quadrature against scipy's integration on randomly generated polynomials. We only test on quadratic polynomials for which the 2-point quadrature should be exact."
      ]
    },
    {
      "cell_type": "code",
      "metadata": {
        "id": "smseKrewYouf"
      },
      "source": [
        "def verify_gauss_quadrature_unit_interval(p):\n",
        "    assert np.abs(integrate.quad(p, 0, 1)[0] - gauss_quadrature_unit_interval(p)) < 1e-10\n",
        "\n",
        "def test_gauss_quadrature_unit_interval(num_tests):\n",
        "    for _ in range(num_tests):\n",
        "        p = np.polynomial.polynomial.Polynomial(np.random.random((4,)))\n",
        "        verify_gauss_quadrature_unit_interval(p)"
      ],
      "execution_count": 15,
      "outputs": []
    },
    {
      "cell_type": "markdown",
      "metadata": {
        "id": "QgqC7m8WYoug"
      },
      "source": [
        "## 3-point edge midpoint quadrature over a reference triangle"
      ]
    },
    {
      "cell_type": "markdown",
      "metadata": {
        "id": "JZwUL_2cYoug"
      },
      "source": [
        "Using the reference triangle defined by the vertices $(0, 0)$, $(1, 0)$ and $(0, 1)$, we have the three edge midpoint quadrature points $(0, \\frac{1}{2})$, $(\\frac{1}{2}, 0)$ and $(\\frac{1}{2}, \\frac{1}{2})$ with weights $w_0 = w_1 = w_2 = \\frac{1}{6}$ (by example 11.5). The implementation is thus simply evaluation at these points in addition to weighing."
      ]
    },
    {
      "cell_type": "code",
      "metadata": {
        "id": "udtKY74VYoug"
      },
      "source": [
        "def quadrature_reference_triangle(f):\n",
        "    return (f(0, 0.5) + f(0.5, 0) + f(0.5, 0.5))/6"
      ],
      "execution_count": 16,
      "outputs": []
    },
    {
      "cell_type": "markdown",
      "metadata": {
        "id": "HXdOloqBYouh"
      },
      "source": [
        "### Tests"
      ]
    },
    {
      "cell_type": "markdown",
      "metadata": {
        "id": "VgSt1_UbYouh"
      },
      "source": [
        "We verify the implementation by comparing against scipy's integration on randomly generated polynomials on the form $ax^2 + by^2 + cxy + dx + ey + f$."
      ]
    },
    {
      "cell_type": "code",
      "metadata": {
        "id": "VLcpMOegYouh"
      },
      "source": [
        "def verify_quadrature_reference_triangle(p):\n",
        "    ref = integrate.dblquad(p, 0, 1, 0, lambda x: 1 - x)[0]\n",
        "    assert np.abs(ref - quadrature_reference_triangle(p)) < 1e-10\n",
        "    \n",
        "def test_quadrature_reference_triangle(num_tests):\n",
        "    for _ in range(num_tests):\n",
        "        c = np.random.random((3,3))\n",
        "        c[2,2] = 0\n",
        "        c[2,1] = 0\n",
        "        c[1,2] = 0\n",
        "        p = lambda y, x: np.polynomial.polynomial.polyval2d(x, y, c)\n",
        "        verify_quadrature_reference_triangle(p)"
      ],
      "execution_count": 17,
      "outputs": []
    },
    {
      "cell_type": "markdown",
      "metadata": {
        "id": "aI0tjcofYoui"
      },
      "source": [
        "## Monte Carlo quadrature over a unit interval"
      ]
    },
    {
      "cell_type": "markdown",
      "metadata": {
        "id": "MylqQiDpYoui"
      },
      "source": [
        "`numpy.random.random` gives an array of samples picked uniformly over the interval $[0,1)$ which is equivalent to the unit interval $[0,1]$ when it comes to integration. To perform Monte Carlo integration, we simply evaluate the function at every sample, divide by the number of samples, and multiply by $|[0,1]| = 1$."
      ]
    },
    {
      "cell_type": "code",
      "metadata": {
        "id": "YPpMHyM4Youi"
      },
      "source": [
        "def monte_carlo_quadrature_unit_interval(f, num_samples):\n",
        "    return np.sum(f(np.random.random((num_samples,)))) / num_samples"
      ],
      "execution_count": 18,
      "outputs": []
    },
    {
      "cell_type": "markdown",
      "metadata": {
        "id": "G4B8KM6iYoui"
      },
      "source": [
        "### Tests"
      ]
    },
    {
      "cell_type": "markdown",
      "metadata": {
        "id": "4OyPnmszYouj"
      },
      "source": [
        "To test the implementation we run it using different sample sizes, and plot the absolute error. We also plot the function $0.1/\\sqrt{n}$ to compare against."
      ]
    },
    {
      "cell_type": "code",
      "metadata": {
        "id": "ulDfCVWsYouj"
      },
      "source": [
        "def test_monte_carlo_quadrature_unit_interval(test_func):\n",
        "    ref = integrate.quad(test_func, 0, 1)[0]\n",
        "    size = np.array(range(4,101))*100\n",
        "    ints = [np.abs(ref - monte_carlo_quadrature_unit_interval(test_func, x)) for x in size]\n",
        "    plt.plot(size, ints)\n",
        "    plt.plot(size, 0.1/np.sqrt(size))\n",
        "    plt.show()"
      ],
      "execution_count": 19,
      "outputs": []
    },
    {
      "cell_type": "markdown",
      "metadata": {
        "id": "s3CF0mGIYouj"
      },
      "source": [
        "## Monte Carlo quadrature over a reference triangle"
      ]
    },
    {
      "cell_type": "markdown",
      "metadata": {
        "id": "UhxnILU6Youj"
      },
      "source": [
        "We use the same reference triangle as before. In order to pick a sample uniformly over the reference triangle, we use a triangular distribution to pick the x-coordinate, and then pick the y-coordinate as a uniform distribution between 0 and the height of the triangle at the previously picked x-coordinate. Once we have our samples we evaluate the function over each, divide by the number of samples and multiply with the area of the triangle which is $1/2$."
      ]
    },
    {
      "cell_type": "code",
      "metadata": {
        "id": "7wpa3teBYouk"
      },
      "source": [
        "def monte_carlo_quadrature_reference_triangle(f, num_samples):\n",
        "    xs = np.random.triangular(0, 0, 1, num_samples)\n",
        "    ys = (1 - xs) * np.random.random(num_samples)\n",
        "    return np.sum(np.array([f(x,y) for (x, y) in zip(xs, ys)]) / (2 * num_samples))"
      ],
      "execution_count": 20,
      "outputs": []
    },
    {
      "cell_type": "markdown",
      "metadata": {
        "id": "dD2AnrnCYouk"
      },
      "source": [
        "### Tests"
      ]
    },
    {
      "cell_type": "markdown",
      "metadata": {
        "id": "1Bom2O2AYouk"
      },
      "source": [
        "To test the implementation we run it using different sample sizes, and plot the absolute error. We also plot the function $0.1/\\sqrt{n}$ to compare against."
      ]
    },
    {
      "cell_type": "code",
      "metadata": {
        "id": "9L4i_SMZYouk"
      },
      "source": [
        "def test_monte_carlo_quadrature_reference_triangle(test_func):\n",
        "    ref = integrate.dblquad(test_func, 0, 1, 0, lambda x: 1 - x)[0]\n",
        "    size = np.array(range(4,101))*100\n",
        "    ints = [np.abs(ref - monte_carlo_quadrature_reference_triangle(test_func, x)) for x in size]\n",
        "    plt.plot(size, ints)\n",
        "    plt.plot(size, 0.1/np.sqrt(size))\n",
        "    plt.show()"
      ],
      "execution_count": 21,
      "outputs": []
    },
    {
      "cell_type": "markdown",
      "metadata": {
        "id": "SsQLT38gVbn_"
      },
      "source": [
        "# **Results**"
      ]
    },
    {
      "cell_type": "markdown",
      "metadata": {
        "id": "ZzDstIUgYoul"
      },
      "source": [
        "The following code cell tests and shows that the deterministic quadrature rules are exact for the tested polynomials:"
      ]
    },
    {
      "cell_type": "code",
      "metadata": {
        "colab": {
          "base_uri": "https://localhost:8080/"
        },
        "id": "zGHWasXSYoul",
        "outputId": "61871a25-b6fb-4fef-b1aa-04d22f6909bb"
      },
      "source": [
        "test_gauss_quadrature_unit_interval(100)\n",
        "test_quadrature_reference_triangle(100)\n",
        "print(\"OK! All tests completed\")"
      ],
      "execution_count": 22,
      "outputs": [
        {
          "output_type": "stream",
          "name": "stdout",
          "text": [
            "OK! All tests completed\n"
          ]
        }
      ]
    },
    {
      "cell_type": "markdown",
      "metadata": {
        "id": "gyDRwzRwYoul"
      },
      "source": [
        "The following code cells shows that the Monte Carlo quadratures convergence to the right value."
      ]
    },
    {
      "cell_type": "code",
      "metadata": {
        "colab": {
          "base_uri": "https://localhost:8080/",
          "height": 513
        },
        "id": "5CM67QhFYoul",
        "outputId": "02873e08-22a4-484a-fcdc-107afb9ff585"
      },
      "source": [
        "test_monte_carlo_quadrature_unit_interval(np.cos)\n",
        "test_monte_carlo_quadrature_reference_triangle(lambda x, y: np.sin(x) + np.cos(y))"
      ],
      "execution_count": 23,
      "outputs": [
        {
          "output_type": "display_data",
          "data": {
            "image/png": "[encoded data removed]",
            "text/plain": [
              "<Figure size 432x288 with 1 Axes>"
            ]
          },
          "metadata": {
            "needs_background": "light"
          }
        },
        {
          "output_type": "display_data",
          "data": {
            "image/png": "[encoded data removed]",
            "text/plain": [
              "<Figure size 432x288 with 1 Axes>"
            ]
          },
          "metadata": {
            "needs_background": "light"
          }
        }
      ]
    },
    {
      "cell_type": "markdown",
      "metadata": {
        "id": "_4GLBv0zWr7m"
      },
      "source": [
        "# **Discussion**"
      ]
    },
    {
      "cell_type": "markdown",
      "metadata": {
        "id": "pvpoWyu_Youm"
      },
      "source": [
        "The Monte Carlo quadrature is quite sporadic in terms of its accuracy, which is to be expected for a stochastic method. One could possibly run it several times and plot the average errors to get a smoother curve, but I think the trend is clear enough in the current plots to see that it converges at the expected rate."
      ]
    }
  ]
}
